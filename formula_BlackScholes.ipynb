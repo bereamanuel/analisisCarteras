{
 "cells": [
  {
   "cell_type": "markdown",
   "metadata": {},
   "source": [
    "# Fórmula de Black-Scholes para opciones Europeas"
   ]
  },
  {
   "cell_type": "markdown",
   "metadata": {},
   "source": [
    "Supongamos que el valor de un activo subyacente en el instante $t$, $S_t$, viene descrito mediante el movimiento Browniano geométrico, es decir:\n",
    "$$ dS(t) = \\mu S(t)dt+\\sigma S(t) dW(t), $$\n",
    "cuya solución podemos calcular aplicando el Lema de Itô. Supongamos que tiene un valor en $t=0$ de $s_0$, esto es $S(0) = s_0$. Ahora podemos tomar $A^{(1)}(t,S(t))= \\mu S(t), \\ A^{(2)}(t,S(t))= \\sigma S(t).$ Si tomamos $s=0,$ y $f(t,s)=log(s)$ podemos calcular las derivadas parciales en $t$ y $s$, tenemos:\n",
    "$$ f_t(t,s) = 0, \\ \\ \\ f_s(t,s) = \\frac{1}{s}, \\ \\ \\ f_{s^2}(t,s) = \\frac{-1}{s^2}.$$\n",
    "\n",
    "Si aplicamos el Lema de Itô, obtenemos:\n",
    "\n",
    "$$ log(S(t)) - log(S(0)) = \\int_{0}^{t} \\mu S(y) \\frac{1}{S(y)} dy + \\frac{1}{2} \\int_{0}{t} \\sigma ^2 (S(y))^2 \\left ( -\\frac{1}{S(y)^2} \\right) dy + \\int_{0}^{t} \\sigma ^2 (S(y))^2 \\left ( -\\frac{1}{S(y)^2} \\right) dW(y) = \\mu t - \\frac{1}{2} \\sigma ^2 t + \\sigma ^2 (W(t) - W(0)).$$\n",
    "\n",
    "Por tanto:\n",
    "\n",
    "$$ log \\left ( \\frac{S(t)}{s_0} \\right ) = \\left ( \\mu - \\frac{1}{2} \\sigma ^2 \\right) t + \\sigma W(t). $$\n",
    "\n",
    "Si depejamos $S(t)$ en la ecuacion anterior, se tiene:\n",
    "\n",
    "$$  S(t) = s_0 e^{ (\\mu -\\frac{1}{2} \\sigma ^2)t + \\sigma W(t)} .$$\n",
    "\n",
    "Ahora suponemos que tenemos un activo subyacente cuyo valor se modeliza mediante un movimiento Browniano geométrico como el expuesto anteriormente. Si se emite una opción de compra Europea sobre este activo con fecha de vencimiento $T$, el precio del ejercicio $K$. Denotamos por $C$ el precio de la opción $call$ (prima). Según la fórmula de Black-Scholes, este precio viene dado por:\n",
    "\n",
    "$$ C = s_0 N(d_1) - K e^{-r (T - T_0)} N(d_2).$$\n",
    "\n",
    "Donde $r$ es el tipo de interés libre de riesgo, $N(x)$ es la función de distribución de una gaussiana tipificada $N(0,1)$, es decir,\n",
    "$$ N(x) = \\mathbb{P}[Z \\leq x] = \\frac{1}{2 \\pi } \\int_{- \\infty }^{x} e^{- \\frac{1}{2} s^2 } ds, $$\n",
    "y\n",
    "$$ d_1 = \\frac{log \\left( \\frac{s_0}{K} \\right) + \\left( r + \\frac{ \\sigma ^2 }{2} \\right) (T - T_0)}{ \\sigma \\sqrt{T-T_0} } ,$$\n",
    "$$ d_2 = d_1 - \\sigma \\sqrt{T - T_0}.$$\n",
    "\n",
    "Podemos observar que el valor de la prima solo depende del parámetro $\\sigma $ del modelo log-normal."
   ]
  },
  {
   "cell_type": "code",
   "execution_count": 20,
   "metadata": {},
   "outputs": [],
   "source": [
    "def valorCall(s0,K,r,sigma,T,T0 = 0):\n",
    "    \"\"\"\n",
    "    La siguiente función nos devuelve el valor de una Call Europea para fecha de vencimiento T:\n",
    "    Input:\n",
    "        - s0(Number)            : Valor inicial de la Call.\n",
    "        - K(Number)             : Precio del ejercicio.\n",
    "        - r(Number)             : Tipo de interés libre de riesgo.\n",
    "        - sigma (Number)        : riesgo o volatilidad del activo.\n",
    "        - T (Number)            : Fecha de vencimiento.\n",
    "        - T0 = 0 (Number)       : Fecha inicial para el velor S0.\n",
    "    Output:\n",
    "        - C(Number)             : Valor de la call.\n",
    "    \"\"\"\n",
    "    from math import log,exp,sqrt\n",
    "    from scipy.stats import norm\n",
    "\n",
    "    d1 = (log(s0/K) + (r + (sigma**2)/(2)) * (T-T0)) / (sqrt(T-T0)*sigma)\n",
    "    d2 = d1 - sigma*sqrt(T-T0)\n",
    "\n",
    "    Nd1 = norm.cdf(d1)\n",
    "    Nd2 = norm.cdf(d2)\n",
    "\n",
    "    C = s0*Nd1 - K*exp(-r*(T-T0))*Nd2\n",
    "    return C"
   ]
  },
  {
   "cell_type": "markdown",
   "metadata": {},
   "source": [
    "## Aplicando la fórmula de Black-Scholes."
   ]
  },
  {
   "cell_type": "markdown",
   "metadata": {},
   "source": [
    "Suponemos que tenemos una opción con precio inicial $s_0 = 74.625$, el precio del ejercicio $K =100$.La fecha de vencimiento es $1.6$ años, el tipo de interés libre de riesgo es $r=0.05$ anual y el riesgo $\\sigma = 0.375$ anual."
   ]
  },
  {
   "cell_type": "code",
   "execution_count": 22,
   "metadata": {},
   "outputs": [
    {
     "data": {
      "text/plain": [
       "8.316364366583233"
      ]
     },
     "execution_count": 22,
     "metadata": {},
     "output_type": "execute_result"
    }
   ],
   "source": [
    "#Nuestro ejemplo\n",
    "s0 = 74.625\n",
    "K = 100\n",
    "T = 1.6\n",
    "r = 0.05\n",
    "sigma = 0.375\n",
    "\n",
    "C = valorCall(s0,K,r,sigma,T)\n",
    "C "
   ]
  },
  {
   "cell_type": "markdown",
   "metadata": {},
   "source": [
    "# Deducción de la fórmula de Black-Scholes"
   ]
  },
  {
   "cell_type": "markdown",
   "metadata": {},
   "source": [
    "El valor de la prima de una opción de compra europea resulta de actualizar el valor esperado del pay-off de la opción\n",
    "$$ C = e^{-rT} \\cdot \\mathbb{E} \\left[ \\left( S_T - K \\right)^+ \\right]. $$\n",
    "\n",
    "Como ya hemos visto el valor de $S_T$ viene dado por el modelo Browniano geométrico:\n",
    "$$  S_T = s_0 e^{ (\\mu -\\frac{1}{2} \\sigma ^2)t + \\sigma W(t)} = s_0 e^{ (\\mu -\\frac{1}{2} \\sigma ^2)t + \\sigma \\sqrt{T} Z} .$$\n",
    "\n",
    "Entonces si realizamos $  e^{-rT} \\cdot  \\left( S_T - K \\right)^+ ,$ y aplicamos el operador esperanza, obtenemos:\n",
    "\n",
    "$$ C = \\frac{e^{-rT}}{\\sqrt{2 \\pi}} \\int_{- \\infty }^{ \\infty }  g(x) \\cdot f(x)  dx, $$\n",
    "donde $g(x)$ es transformación de $f(x)$ función de densidad de la Gaussiana tipificada, es decir, $$ g(x) = max \\left ( s_0 e^{ (\\mu -\\frac{1}{2} \\sigma ^2)t + \\sigma \\sqrt{T} x} - K , 0 \\right )$$ y  $$ f(x) = e^{- \\frac{x^2}{2}} . $$\n",
    "\n",
    "Como la función $g(x)$ es $0$ cuando no se ejecuta la opción, entonces deducimos $\\hat{x}$ de la siguiente forma:\n",
    "\n",
    "$$ s_0 e^{ (\\mu -\\frac{1}{2} \\sigma ^2)t + \\sigma \\sqrt{T} x} - K > 0 \\Rightarrow x > \\frac{log \\left ( \\frac{K}{s_0} \\right )  - \\left ( r - \\frac{ \\sigma ^2 }{2} \\right) T }{ \\sigma \\sqrt{T}} = \\hat{x} .  $$\n",
    "\n",
    "Entonces es fácil ver que:\n",
    "\n",
    "$$ C = \\frac{e^{-rT}}{\\sqrt{2 \\pi}} \\int_{ \\hat{x} }^{ \\infty }  \\left ( s_0 e^{ (\\mu -\\frac{1}{2} \\sigma ^2)t + \\sigma \\sqrt{T} x} \\right ) \\cdot e^{- \\frac{x^2}{2}}  dx - \\frac{e^{-rT} K}{\\sqrt{2 \\pi}} \\int_{ \\hat{x} }^{ \\infty }  e^{- \\frac{x^2}{2}}  dx = \\frac{e^{-rT}}{\\sqrt{2 \\pi}} \\int_{ \\hat{x} }^{ \\infty }  \\left ( s_0 e^{ (\\mu -\\frac{1}{2} \\sigma ^2)t + \\sigma \\sqrt{T} x} \\right ) \\cdot e^{- \\frac{x^2}{2}}  dx - e^{-rT} K N(- \\hat{x}). $$\n",
    "\n",
    "Operando, se obtiene:\n",
    "\n",
    "$$ C = \\frac{s_0}{\\sqrt{2 \\pi}} \\int_{ \\hat{x} }^{ \\infty }  e^{- \\frac{1}{2} \\left (  x - \\sigma \\sqrt{T} \\right )^2  }  dx - e^{-rT} K N(- \\hat{x})  = s_0 N(- (\\hat{x} - \\sigma \\sqrt{T}) ) - e^{-rT} K N(- \\hat{x}) = s_0 N(\\sigma \\sqrt{T} - \\hat{x}) - e^{-rT} K N(- \\hat{x}).$$\n",
    "\n",
    "De aqui es inmediato ver el valor de $d_1 = \\sigma \\sqrt{T} - \\hat{x} $ y $d_2 = - \\hat{x}.$ Si operamos en $d_1$ y $d_2$ obtenemos los valores dados anteriormente."
   ]
  }
 ],
 "metadata": {
  "kernelspec": {
   "display_name": "Python 3.10.5 64-bit",
   "language": "python",
   "name": "python3"
  },
  "language_info": {
   "codemirror_mode": {
    "name": "ipython",
    "version": 3
   },
   "file_extension": ".py",
   "mimetype": "text/x-python",
   "name": "python",
   "nbconvert_exporter": "python",
   "pygments_lexer": "ipython3",
   "version": "3.10.5"
  },
  "orig_nbformat": 4,
  "vscode": {
   "interpreter": {
    "hash": "a8135fe7d6a75c07e18511846aaf432262da10b171c64f156edaf9598e4b42d5"
   }
  }
 },
 "nbformat": 4,
 "nbformat_minor": 2
}
