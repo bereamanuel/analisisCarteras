{
 "cells": [
  {
   "cell_type": "markdown",
   "metadata": {},
   "source": [
    "# Actividad laboratorio: Estimación de parámetros de un activo financiero\n",
    "\n",
    "## Objetivos\n",
    "\n",
    "El objetivo de esta actividad es programar y así tener soltura a la hora de manejar datos financieros.\n",
    "\n",
    "## Pautas de elaboración\n",
    "\n",
    "En uno de los recursos audiovisuales se ha explicado como ir a una base de datos donde aparecen las cotizaciones de las grandes empresas en el IBEX-35. En primer lugar, se recomienda considerar un activo, descargarse los datos y ajustar los parámetros del modelo log-normal utilizando dos de los tres métodos de estimación que se explican en el Tema 6.\n",
    "\n",
    "## Parte 1: Definición de las funciones que vamos a utilizar y carga de librerías\n",
    "\n",
    "En python hay multitud de librerías que podemos utilizar, en este caso utilizaremos librerías standar para el analísis de datos y acceder a la base de datos de Yahoo Finance.\n",
    "Además, vamos a definir una serie de funciones para proceder a ajustar un modelo log-normal.\n",
    "\n",
    "El modelo Log-Normal se puede describir matemáticamente como:\n",
    "$$ \n",
    "    \\begin{cases}\n",
    "    dS(t) = \\mu S(t) + \\sigma S(t)dW(t)\\ \\ donde \\  \\mu \\in \\mathbb{R} \\ y \\ \\sigma >0, \\\\\n",
    "    S(0) = s_0\n",
    "    \\end{cases} \n",
    "$$\n",
    "Aplicando el Lema de Ito y resolviendo la EDE, obtenemos que $S(t) = s_0 e^{(\\mu - \\frac{1}{2}\\sigma ^2)t + \\sigma W(t) }$"
   ]
  },
  {
   "cell_type": "markdown",
   "metadata": {},
   "source": [
    "### Librerías"
   ]
  },
  {
   "cell_type": "code",
   "execution_count": 28,
   "metadata": {},
   "outputs": [],
   "source": [
    "#pip install yfinance   -> Con esta librería podemos conectarnos a los datos de Yahoo Finance.\n",
    "#pip install pandas     -> Librería por excelencia para el manejo de datos con python.\n",
    "import yfinance as yf  \n",
    "import pandas as pd \n",
    "import numpy as np\n",
    "from math import exp"
   ]
  },
  {
   "cell_type": "markdown",
   "metadata": {},
   "source": [
    "### Funciones"
   ]
  },
  {
   "cell_type": "markdown",
   "metadata": {},
   "source": [
    "####  Media"
   ]
  },
  {
   "cell_type": "markdown",
   "metadata": {},
   "source": [
    "Aplicando el operador esperanza se obtiene la siguiente expresión: $$ \\mathbb{E}[S(t)] = s_0 \\cdot e^{\\mu t}, $$ Esto lo podemos programar de la siguiente manera:"
   ]
  },
  {
   "cell_type": "code",
   "execution_count": 41,
   "metadata": {},
   "outputs": [
    {
     "data": {
      "text/plain": [
       "[5.197000026702881,\n",
       " 987.80118081847,\n",
       " 187752.77425684506,\n",
       " 35686436.628809765,\n",
       " 6782971725.999026]"
      ]
     },
     "execution_count": 41,
     "metadata": {},
     "output_type": "execute_result"
    }
   ],
   "source": [
    "def media(datos,t = None):\n",
    "    \"\"\"\n",
    "    La siguiente función nos devuelve el media del modelo Log-Normal en el instate t:\n",
    "    Input:\n",
    "        - datos(List[Number])   : Datos a analizar.\n",
    "        - t (Number)      : Vector de tiempos o el instante t. (Valor opcional, si no se rellena, devuelve en cada instante de t)\n",
    "    Output:\n",
    "        - eS(List[Number])  : Vector de medias de la solución en todos los instantes o media de la solución en el instante t.\n",
    "    \"\"\"\n",
    "    from math import exp\n",
    "    mu = 1/len(datos)*sum(datos)\n",
    "    s0 = datos[0]\n",
    "    eS = []\n",
    "    if t:\n",
    "        eS.append(s0*exp(mu*t))\n",
    "    else:\n",
    "        for t in range(len(datos)):\n",
    "            eS.append(s0*exp(mu*(t)))\n",
    "    return(eS)\n",
    "\n",
    "media(prueba[\"Open\"])"
   ]
  },
  {
   "cell_type": "markdown",
   "metadata": {},
   "source": [
    "Aplicando el operador esperanza se obtiene la siguiente expresión: $$ \\mathbb{V}[S(t)] = \\mathbb{E}[S(t)^2] - \\mathbb{E}[S(t)]^2 = s_0^2 \\cdot e^{2 \\mu t} \\cdot (e^{\\sigma^2 t} - 1), $$ Esto lo podemos programar de la siguiente manera:"
   ]
  },
  {
   "cell_type": "code",
   "execution_count": 46,
   "metadata": {},
   "outputs": [
    {
     "data": {
      "text/plain": [
       "[0.0,\n",
       " 31.830742856011288,\n",
       " 8558.374860872009,\n",
       " 1992812.7206533635,\n",
       " 437487276.5091437]"
      ]
     },
     "execution_count": 46,
     "metadata": {},
     "output_type": "execute_result"
    }
   ],
   "source": [
    "def desvTipica(datos,t = None):\n",
    "    \"\"\"\n",
    "    La siguiente función nos devuelve la desviación típica del modelo Log-Normal en el instate t:\n",
    "    Input:\n",
    "        - datos(List[Number])   : Datos a analizar.\n",
    "        - t (Number)      : Vector de tiempos o el instante t. (Valor opcional, si no se rellena, devuelve en cada instante de t)\n",
    "    Output:\n",
    "        - eS(List[Number])  : Vector desviación típica la solución en todos los instantes o desviación típica de la solución en el instante t.\n",
    "    \"\"\"\n",
    "    from math import exp, sqrt\n",
    "    import numpy as np \n",
    "    mu = np.mean(datos)\n",
    "    sigma2 = np.std(datos)**2\n",
    "    s0 = datos[0]\n",
    "    eS = []\n",
    "    if t:\n",
    "        eS.append(sqrt((s0**2)*exp(2*mu*t)*(exp(sigma2*t)-1)))\n",
    "    else:\n",
    "        for t in range(len(datos)):\n",
    "            eS.append(sqrt((s0**2)*exp(2*mu*t)*(exp(sigma2*t)-1)))\n",
    "    return(eS)\n",
    "\n",
    "desvTipica(prueba[\"Open\"])"
   ]
  },
  {
   "cell_type": "markdown",
   "metadata": {},
   "source": [
    "## Parte 2: Análisis exploratorio de los datos\n",
    "\n",
    "En esta segunda parte, vamos a analizar de forma libiana los datos y en caso de necesitar alguna transformación para poder aplicar nuestro modelo procederemos con ello."
   ]
  },
  {
   "cell_type": "code",
   "execution_count": 37,
   "metadata": {},
   "outputs": [
    {
     "data": {
      "text/html": [
       "<div>\n",
       "<style scoped>\n",
       "    .dataframe tbody tr th:only-of-type {\n",
       "        vertical-align: middle;\n",
       "    }\n",
       "\n",
       "    .dataframe tbody tr th {\n",
       "        vertical-align: top;\n",
       "    }\n",
       "\n",
       "    .dataframe thead th {\n",
       "        text-align: right;\n",
       "    }\n",
       "</style>\n",
       "<table border=\"1\" class=\"dataframe\">\n",
       "  <thead>\n",
       "    <tr style=\"text-align: right;\">\n",
       "      <th></th>\n",
       "      <th>Open</th>\n",
       "      <th>High</th>\n",
       "      <th>Low</th>\n",
       "      <th>Close</th>\n",
       "      <th>Volume</th>\n",
       "      <th>Dividends</th>\n",
       "      <th>Stock Splits</th>\n",
       "    </tr>\n",
       "    <tr>\n",
       "      <th>Date</th>\n",
       "      <th></th>\n",
       "      <th></th>\n",
       "      <th></th>\n",
       "      <th></th>\n",
       "      <th></th>\n",
       "      <th></th>\n",
       "      <th></th>\n",
       "    </tr>\n",
       "  </thead>\n",
       "  <tbody>\n",
       "    <tr>\n",
       "      <th>2000-01-03 00:00:00+01:00</th>\n",
       "      <td>5.015342</td>\n",
       "      <td>5.039979</td>\n",
       "      <td>4.980147</td>\n",
       "      <td>4.990705</td>\n",
       "      <td>8244257</td>\n",
       "      <td>0.0</td>\n",
       "      <td>0</td>\n",
       "    </tr>\n",
       "    <tr>\n",
       "      <th>2000-01-04 00:00:00+01:00</th>\n",
       "      <td>4.927352</td>\n",
       "      <td>4.959028</td>\n",
       "      <td>4.842883</td>\n",
       "      <td>4.860481</td>\n",
       "      <td>8522096</td>\n",
       "      <td>0.0</td>\n",
       "      <td>0</td>\n",
       "    </tr>\n",
       "    <tr>\n",
       "      <th>2000-01-05 00:00:00+01:00</th>\n",
       "      <td>4.814727</td>\n",
       "      <td>4.839365</td>\n",
       "      <td>4.730259</td>\n",
       "      <td>4.751376</td>\n",
       "      <td>12159826</td>\n",
       "      <td>0.0</td>\n",
       "      <td>0</td>\n",
       "    </tr>\n",
       "    <tr>\n",
       "      <th>2000-01-06 00:00:00+01:00</th>\n",
       "      <td>4.751376</td>\n",
       "      <td>4.751376</td>\n",
       "      <td>4.751376</td>\n",
       "      <td>4.751376</td>\n",
       "      <td>0</td>\n",
       "      <td>0.0</td>\n",
       "      <td>0</td>\n",
       "    </tr>\n",
       "    <tr>\n",
       "      <th>2000-01-07 00:00:00+01:00</th>\n",
       "      <td>4.853442</td>\n",
       "      <td>4.853442</td>\n",
       "      <td>4.761934</td>\n",
       "      <td>4.811207</td>\n",
       "      <td>62261944</td>\n",
       "      <td>0.0</td>\n",
       "      <td>0</td>\n",
       "    </tr>\n",
       "    <tr>\n",
       "      <th>...</th>\n",
       "      <td>...</td>\n",
       "      <td>...</td>\n",
       "      <td>...</td>\n",
       "      <td>...</td>\n",
       "      <td>...</td>\n",
       "      <td>...</td>\n",
       "      <td>...</td>\n",
       "    </tr>\n",
       "    <tr>\n",
       "      <th>2022-10-28 00:00:00+02:00</th>\n",
       "      <td>5.197000</td>\n",
       "      <td>5.248000</td>\n",
       "      <td>5.021000</td>\n",
       "      <td>5.246000</td>\n",
       "      <td>20870488</td>\n",
       "      <td>0.0</td>\n",
       "      <td>0</td>\n",
       "    </tr>\n",
       "    <tr>\n",
       "      <th>2022-10-31 00:00:00+01:00</th>\n",
       "      <td>5.240000</td>\n",
       "      <td>5.272000</td>\n",
       "      <td>5.172000</td>\n",
       "      <td>5.209000</td>\n",
       "      <td>15559086</td>\n",
       "      <td>0.0</td>\n",
       "      <td>0</td>\n",
       "    </tr>\n",
       "    <tr>\n",
       "      <th>2022-11-01 00:00:00+01:00</th>\n",
       "      <td>5.249000</td>\n",
       "      <td>5.299000</td>\n",
       "      <td>5.229000</td>\n",
       "      <td>5.255000</td>\n",
       "      <td>14233887</td>\n",
       "      <td>0.0</td>\n",
       "      <td>0</td>\n",
       "    </tr>\n",
       "    <tr>\n",
       "      <th>2022-11-02 00:00:00+01:00</th>\n",
       "      <td>5.298000</td>\n",
       "      <td>5.333000</td>\n",
       "      <td>5.261000</td>\n",
       "      <td>5.286000</td>\n",
       "      <td>12864826</td>\n",
       "      <td>0.0</td>\n",
       "      <td>0</td>\n",
       "    </tr>\n",
       "    <tr>\n",
       "      <th>2022-11-03 00:00:00+01:00</th>\n",
       "      <td>5.253000</td>\n",
       "      <td>5.253000</td>\n",
       "      <td>5.159000</td>\n",
       "      <td>5.198000</td>\n",
       "      <td>4558297</td>\n",
       "      <td>0.0</td>\n",
       "      <td>0</td>\n",
       "    </tr>\n",
       "  </tbody>\n",
       "</table>\n",
       "<p>5808 rows × 7 columns</p>\n",
       "</div>"
      ],
      "text/plain": [
       "                               Open      High       Low     Close    Volume  \\\n",
       "Date                                                                          \n",
       "2000-01-03 00:00:00+01:00  5.015342  5.039979  4.980147  4.990705   8244257   \n",
       "2000-01-04 00:00:00+01:00  4.927352  4.959028  4.842883  4.860481   8522096   \n",
       "2000-01-05 00:00:00+01:00  4.814727  4.839365  4.730259  4.751376  12159826   \n",
       "2000-01-06 00:00:00+01:00  4.751376  4.751376  4.751376  4.751376         0   \n",
       "2000-01-07 00:00:00+01:00  4.853442  4.853442  4.761934  4.811207  62261944   \n",
       "...                             ...       ...       ...       ...       ...   \n",
       "2022-10-28 00:00:00+02:00  5.197000  5.248000  5.021000  5.246000  20870488   \n",
       "2022-10-31 00:00:00+01:00  5.240000  5.272000  5.172000  5.209000  15559086   \n",
       "2022-11-01 00:00:00+01:00  5.249000  5.299000  5.229000  5.255000  14233887   \n",
       "2022-11-02 00:00:00+01:00  5.298000  5.333000  5.261000  5.286000  12864826   \n",
       "2022-11-03 00:00:00+01:00  5.253000  5.253000  5.159000  5.198000   4558297   \n",
       "\n",
       "                           Dividends  Stock Splits  \n",
       "Date                                                \n",
       "2000-01-03 00:00:00+01:00        0.0             0  \n",
       "2000-01-04 00:00:00+01:00        0.0             0  \n",
       "2000-01-05 00:00:00+01:00        0.0             0  \n",
       "2000-01-06 00:00:00+01:00        0.0             0  \n",
       "2000-01-07 00:00:00+01:00        0.0             0  \n",
       "...                              ...           ...  \n",
       "2022-10-28 00:00:00+02:00        0.0             0  \n",
       "2022-10-31 00:00:00+01:00        0.0             0  \n",
       "2022-11-01 00:00:00+01:00        0.0             0  \n",
       "2022-11-02 00:00:00+01:00        0.0             0  \n",
       "2022-11-03 00:00:00+01:00        0.0             0  \n",
       "\n",
       "[5808 rows x 7 columns]"
      ]
     },
     "execution_count": 37,
     "metadata": {},
     "output_type": "execute_result"
    }
   ],
   "source": [
    "simbolo = \"BBVA.MC\"\n",
    "bbva = yf.Ticker(simbolo)\n",
    "bbva.info[\"longBusinessSummary\"] + \" \" + bbva.info[\"website\"]\n",
    "\n",
    "bbva.history(period=\"max\")"
   ]
  },
  {
   "cell_type": "markdown",
   "metadata": {},
   "source": []
  }
 ],
 "metadata": {
  "kernelspec": {
   "display_name": "Python 3.10.5 64-bit",
   "language": "python",
   "name": "python3"
  },
  "language_info": {
   "codemirror_mode": {
    "name": "ipython",
    "version": 3
   },
   "file_extension": ".py",
   "mimetype": "text/x-python",
   "name": "python",
   "nbconvert_exporter": "python",
   "pygments_lexer": "ipython3",
   "version": "3.10.5"
  },
  "orig_nbformat": 4,
  "vscode": {
   "interpreter": {
    "hash": "a8135fe7d6a75c07e18511846aaf432262da10b171c64f156edaf9598e4b42d5"
   }
  }
 },
 "nbformat": 4,
 "nbformat_minor": 2
}
